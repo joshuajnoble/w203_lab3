{
 "cells": [
  {
   "cell_type": "markdown",
   "metadata": {},
   "source": [
    "<h1> Lab 3: Reducing Crime</h1>\n",
    "\n",
    "<h3> w203 Instructional Team </h3>\n",
    "\n",
    "# Introduction\n",
    "\n",
    "Your team has been hired to provide research for a political campaign.  They have obtained a dataset of crime statistics for a selection of counties in North Carolina.\n",
    "\n",
    "Your task is to examine the data to help the campaign understand the determinants of crime and to generate policy suggestions that are applicable to local government.\n",
    "\n",
    "This is a group assignment.  Your live session instructor will coordinate the formation of groups.\n",
    "\n",
    "When working in a group, do not use a \"division-of-labor\" approach to complete the lab.  All students should participate in all aspects of the final report.\n",
    "\n",
    "# Timeline\n",
    "\n",
    "The lab takes place in three stages.\n",
    "\n",
    "\n",
    "**Stage 1: Draft Report.**  You will create a draft report.\n",
    "\n",
    "**Stage 2: Peer Feedback.**  Teams will exchange reports and provide each other with feedback.\n",
    "\n",
    "**Stage 3: Final Report.**  You will incorporate the feedback you receive and create a final report.\n",
    "\n",
    "# Instructions\n",
    "\n",
    "Please submit your answers in _one_ PDF and _one_ Jupyter Notebook or Rmd file.\n",
    "Only your answers in the PDF document will be considered for grading. The Jupyter Notebook is required to verify that any scripts that you have written can be executed.\n",
    "You are allowed to submit supplementary files such as images of handwritten notes imported into your Jupyter Notebook. Do note, however, that no handwritten notes will be considered for grading.\n",
    "Finally, do _not_ upload your documents as one zipped file.\n",
    "\n",
    "\n",
    "# The Data\n",
    "\n",
    "The data is provided in a file, crime\\_v2.csv.  It was first used in a study by Cornwell and Trumball, researchers from the University of Georgia and West Virginia University (C. Cornwell and W. Trumball (1994), “Estimating the Economic Model of Crime with Panel Data,” Review of Economics and Statistics 76, 360-366.)  While we are only providing you with a single cross-section of data, the original study was based on a multi-year panel.  The authors used panel data methods and instrumental variables to control for some types of omitted variables.  Since you are restricted to ordinary least squares regression, omitted variables will be a major obstacle to your estimates.  You should aim for causal estimates, while clearly explaining how you think omitted variables may affect your conclusions.\n",
    "\n",
    "While you are free to look at the Cornwell and Trumball study (or other papers in the vast literature on crime), we don't advise you to spend much time on this.  It may help you to do some basic internet searching while performing your EDA.  Primarily, though, we want you to focus on learning from the data.\n",
    "\n",
    "The data may have been modified by your instructors to test your abilities.\n",
    "\n",
    "You are given the following codebook:\n",
    "\n",
    "variable  | label\n",
    "----------|------\n",
    "1    county|               county identifier\n",
    "2      year|                            1987\n",
    "3    crmrte|     crimes committed per person\n",
    "4    prbarr|         'probability' of arrest\n",
    "5   prbconv|     'probability' of conviction\n",
    "6   prbpris| 'probability' of prison sentence\n",
    "7    avgsen|             avg. sentence, days\n",
    "8     polpc|               police per capita\n",
    "9   density|             people per sq. mile\n",
    "10    taxpc|          tax revenue per capita\n",
    "11     west|           =1 if in western N.C.\n",
    "12  central|           =1 if in central N.C.\n",
    "13    urban|                   =1 if in SMSA\n",
    "14 pctmin80|            perc. minority, 1980\n",
    "15     wcon|       weekly wage, construction\n",
    "16     wtuc|    wkly wge, trns, util, commun\n",
    "17     wtrd| wkly wge, whlesle, retail trade\n",
    "18     wfir|    wkly wge, fin, ins, real est\n",
    "19     wser|      wkly wge, service industry\n",
    "20     wmfg|         wkly wge, manufacturing\n",
    "21     wfed|         wkly wge, fed employees\n",
    "22     wsta|       wkly wge, state employees\n",
    "23     wloc|        wkly wge, local gov emps\n",
    "24      mix| offense mix: face-to-face/other\n",
    "25  pctymle|              percent young male\n",
    "\n",
    "In the literature on crime, researchers often distinguish between the certainty of punishment (do criminals expect to get caught and face punishment) and the severity of punishment (for example, how long prison sentences are).  The former concept is the motivation for the 'probability' variables.  These are not true probabilities, but rather ratios computed to serve as proxies for probabilities.  The probability of arrest is computed as the ratio of arrests to offenses, measures drawn from the FBI's Uniform Crime Reports.  The probability of conviction is computed as the ratio of convictions to arrests, and the probability of prison sentence is computed as the convictions resulting in a prison sentence to total convictions.  The data on convictions is taken from the prison and probation files of the North Carolina Department of Correction.\n",
    "\n",
    "The percent young male variable records the proportion of the population that is male and between the ages of 15 and 24.  This variable, as well as percent minority, was drawn from census data.\n",
    "\n",
    "The number of police per capita was computed from the FBI's police agency employee counts.\n",
    "\n",
    "The variables for wages in different sectors were provided by the North Carolina Employment Security Commission."
   ]
  },
  {
   "cell_type": "markdown",
   "metadata": {},
   "source": [
    "# Stage 1: Draft Report - Due at Live Session 12\n",
    "\n",
    "In the first stage of the project, you will create a draft report that addresses the concerns of the political campaign.  You should aim to make this report as complete as possible, so that you get the best possible feedback in stage 2.  (If you have extra time during these weeks, it will be beneficial to watch ahead in the async videos, as far as unit 12)\n",
    "\n",
    "The exact format of your report is flexible, but it must include the following elements:\n",
    "\n",
    "## 1. An Introduction\n",
    "\n",
    "Your introduction should present a research question and explain the concept that you're attempting to measure and how it will be operationalized.  This section should pave the way for the body of the report, preparing the reader to understand why the models are constructed the way that they are.  It is not enough to simply say \"We are looking for determinants of crime.\"  Your introduction must do work for you, focusing the reader on a specific measurement goal, making them care about it, and propeling the narrative forward.  This is also good time to put your work into context, discuss cross-cutting issues, and assess the overall appropriateness of the data.\n",
    "\n",
    "## 2. A Model Building Process\n",
    "\n",
    "You will next build a set of models to investigate your research question, documenting your decisions.  Here are some things to keep in mind during your model building process:\n",
    "\n",
    "1. What do you want to measure?  Make sure you identify one, or a few, variables that will allow you to derive conclusions relevant to the political campaign, and include those variables in all model specifications.\n",
    "\n",
    "2. What covariates help you correctly and accurately measure a causal effect?  What covariates are problematic, either due to multicollinearity, or because they will absorb some of a causal effect you want to measure?\n",
    "\n",
    "3. What transformations should you apply to each variable?  This is very important because transformations can reveal linearities in the data, make our results relevant, or help us meet model assumptions.\n",
    "\n",
    "4. Are your choices supported by EDA?  You will likely start with some general EDA to detect anomalies (missing values, top-coded variables, etc.).  From then on, your EDA should be interspersed with your model building.  Use visual tools to guide your decisions.  You can also leverage statistical tests to help assess whether variables, or groups of variables, are improving model fit.\n",
    "\n",
    "At the same time, it is important to remember that you are not trying to create one perfect model.  You will create several specifications, giving the reader a sense of how robust your results are (how sensitive to modeling choices), and to show that you're not just cherry-picking the specification that leads to the largest effects.\n",
    "\n",
    "At a minimum, you should include the following three specifications:\n",
    "\n",
    "- One model with only the key variables you want to measure (possibly transformed, as determined by your EDA), and no other covariates (or perhaps one or at more two covariates if they are so crucial that it would be unreasonable to omit them)\n",
    "\n",
    "- One model that includes key explanatory variables and covariates that you believe advance your modeling goals without introducing too much multicollinearity or causing other issues.  This model should strike a balance between accuracy and parsimony and reflect your best understanding of the relationships among key variables.\n",
    "\n",
    "- One model that includes the previous covariates, and most, if not all, other covariates.  A key purpose of this model is to demonstrate the robustness of your results to model specification.  (However, you should still not include variables that are clearly unreasonable.  For example, don't include outcome variables that will absorb some of the causal effect you are interested in measuring)\n",
    "\n",
    "Guided by your background knowledge and your EDA, other specifications may make sense.  You are trying to choose points that encircle the space of reasonable modeling choices, to give an overall understanding of how these choices impact results.\n",
    "\n",
    "## 3. An Assessment of the CLM Assumptions\n",
    "\n",
    "For *one* of your model specifications, we would like to see a complete assessment of all 6 classical linear model assumptions.\n",
    "\n",
    "Use plots and other diagnostic tools to assess whether the assumptions appear to be violated, and follow best practices in responding to any violations you find.  \n",
    "\n",
    "Note that we only want to see this level of detail for one model specification.  For the other specifications, you should keep the CLM assumptions in mind, but only discuss them in your report if you encounter any major surprises.\n",
    "\n",
    "Note that you may need to change your model specifications in response to violations of the CLM.\n",
    "\n",
    "## 4. A Regression Table\n",
    "\n",
    "You should display all of your model specifications in a regression table, using a package like stargazer to format your output.  It should be easy for the reader to find the coefficients that represent key effects near the top of the regression table, and scan horizontally to see how they change from specification to specification.  Make sure that you display the most appropriate standard errors in your table, along with significance stars.\n",
    "\n",
    "In your text, comment on both statistical significance and practical significance.  You may want to include statistical tests besides the standard t-tests for regression coefficients.\n",
    "\n",
    "## 5. A Discussion of Omitted Variables\n",
    "\n",
    "Identify what you think are the 5-10 most important omitted variables that bias results you care about.  For each variable, you should estimate what direction the bias is in.  If you can argue whether the bias is large or small, that is even better.  State whether you have any variables available that may proxy (even imperfectly) for the omitted variable.   Pay particular attention to whether each omitted variable bias is towards zero or away from zero.  You will use this information to judge whether the effects you find are likely to be real, or whether they might be entirely an artifact of omitted variable bias.\n",
    "\n",
    "## 6. A Conclusion\n",
    "\n",
    "Make sure that you end your report with a discussion that relates your results to concerns of the political campaign.\n",
    "\n",
    "\n",
    "**Submission**\n",
    "\n",
    "Submit your lab via ISVC; please do not submit via email.\n",
    "\n",
    "Submit 2 files:\n",
    "\n",
    "1. A pdf file including the summary, the details of your analysis, and all the R codes used to produce the analysis. **Please do not suppress the code in your pdf file.**\n",
    "\n",
    "2. The Rmd or ipynb source file used to produce the pdf file.\n",
    "\n",
    "Each group only needs to submit one set of files.\n",
    "\n",
    "Be sure to include the names of all team members in your report.  Place the word 'draft' in the file names.\n",
    "\n",
    "Please limit your submission to 8000 words, excluding code cells and R output.\n",
    "\n",
    "\n",
    "# Stage 2: Peer Feedback - Due at Live Session 13\n",
    "\n",
    "In Stage 2, you will provide feedback on another team's draft report.  We will ask you to comment separately on different sections.  The following list is very similar to the rubric we will use when grading your final report.\n",
    "\n",
    "**1.0** Introduction.  Is the introduction clear? Is the research question specific and well defined?  Does the introduction motivate a specific concept to be measured and explain how it will be operationalized.  Does it do a good job of preparing the reader to understand the model specifications?\n",
    "\n",
    "**2.0** The Initial Data Loading and Cleaning.  Did the team notice any anomalous values?  Is there a sufficient justification for any data points that are removed?  Did the report note any coding features that affect the meaning of variables (e.g. top-coding or bottom-coding)?  Overall, does the report demonstrate a thorough understanding of the data?\n",
    "\n",
    "**3.0** The Model Building Process. Overall, is each step in the model building process supported by EDA?  Is the outcome variable (or variables) appropriate? Is there a thorough univariate analysis of the outcome variable? Did the team identify one, or a few, explanatory variables and perform a thorough univariate analysis of each one? Did the team clearly state why they chose these explanatory variables, does this explanation make sense in term of their research question? Did the team consider available variable transformations and select them with an eye towards model plausibility and interperability?  Are transformations used to expose linear relationships in scatterplots?  Is there enough explanation in the text to understand the meaning of each visualization?\n",
    "\n",
    "**4.0** Regression Models: Base Model. Does this model only include key explanatory variables?  Do the variables make sense given the measurement goals?  Did the team apply reasonable transformations to these variables, to capture the nature of the relationships?\n",
    "\n",
    "**4.1** Regression Model: Second Model. Does this model represent a balanced approach, including variables that advance modeling goals without causing major issues?  Does the model suceed in reducing standard errors of the key variables compared to the base model?  Does it capture major nonlinearities in the joint distribution of the variables?\n",
    "\n",
    "**4.2** Regression Model: Third Model.  Does this model represent a maximalist approach, erring on the side of including most variables?  Is it still a reasonable model?  Are there any variables that are outcomes, and should therefore still be excluded?  Is there too much multicolinearity, to the point that the key causal effects cannot be measured?\n",
    "\n",
    "**4.3** Assessment of the CLM.  Has the team assessed each of the CLM assumptions (including random sampling)?  Did they use visual tools or statistical tests, as appropriate?  Did they respond appropriately to any violations?\n",
    "\n",
    "**4.4** The Regression Table.  Are the model specifications properly chosen to outline the boundary of reasonable choices?  Is it easy to find key coefficients in the regression table?  Does the text include a discussion of practical significance for key effects? \n",
    "\n",
    "**5.0** The Omitted Variables Discussion.  Did the report miss any important sources of omitted variable bias?  Are the estimated directions of bias correct? Was their explanation clear?  Is the discussion connected to whether the key effects are real or whether they may be solely an artifact of omitted variable bias?\n",
    "\n",
    "**6.0** Conclusion.  Does the conclusion address the high-level concerns of a political campaign?  Does it raise interesting points beyond numerical estimates?  Does it place relevant context around the results?\n",
    "\n",
    "**7.0** Can you find any other errors, faulty logic, unclear or unpersuasive writing, or other elements that leave you less convinced by the conclusions?\n",
    "\n",
    "Please be thorough and read the report critically, actively trying to find weaknesses.  Your comments will directly help your peers get the most value out of the project.\n",
    "\n",
    "# Stage 3: Final Report - Due 24 at Live Session 14\n",
    "\n",
    "In the final stage of the project, you will incorporate the feedback you receive, and use what you've learned about OLS inference to create a final report.\n",
    "\n",
    "We will assess your final report using a rubric that includes the elements listed above.  We will also consider whether you have correctly included elements of statistical inference in your report.\n",
    "\n",
    "Please limit your submission to 8000 words, excluding code cells and R output.\n",
    "\n",
    "As above, you must submit both the source and pdf files.  Be sure to include the names of all team members in your report.  Place the word 'final' in the file names."
   ]
  },
  {
   "cell_type": "code",
   "execution_count": 3,
   "metadata": {},
   "outputs": [],
   "source": [
    "data <- read.csv(file = 'H:/ROL/MIDS/W203 Stats/lab_3/crime_v2.csv')"
   ]
  },
  {
   "cell_type": "code",
   "execution_count": 4,
   "metadata": {},
   "outputs": [
    {
     "name": "stderr",
     "output_type": "stream",
     "text": [
      "Loading required package: carData\n",
      "\n"
     ]
    }
   ],
   "source": [
    "library(car)"
   ]
  },
  {
   "cell_type": "code",
   "execution_count": 27,
   "metadata": {},
   "outputs": [],
   "source": [
    "library(ggplot2)\n",
    "library(tidyr)"
   ]
  },
  {
   "cell_type": "markdown",
   "metadata": {},
   "source": [
    "# Exploratory Data Analysis"
   ]
  },
  {
   "cell_type": "markdown",
   "metadata": {},
   "source": [
    "## First the dependent variable is examined"
   ]
  },
  {
   "cell_type": "markdown",
   "metadata": {},
   "source": [
    "Remove the NA's and summarize with a few extra percentiles"
   ]
  },
  {
   "cell_type": "code",
   "execution_count": 63,
   "metadata": {},
   "outputs": [
    {
     "data": {
      "text/html": [
       "<dl class=dl-horizontal>\n",
       "\t<dt>0%</dt>\n",
       "\t\t<dd>0.0055332</dd>\n",
       "\t<dt>1%</dt>\n",
       "\t\t<dd>0.0101142</dd>\n",
       "\t<dt>5%</dt>\n",
       "\t\t<dd>0.01238475</dd>\n",
       "\t<dt>10%</dt>\n",
       "\t\t<dd>0.0141928</dd>\n",
       "\t<dt>25%</dt>\n",
       "\t\t<dd>0.0209271005</dd>\n",
       "\t<dt>50%</dt>\n",
       "\t\t<dd>0.029985599</dd>\n",
       "\t<dt>75%</dt>\n",
       "\t\t<dd>0.0396416005</dd>\n",
       "\t<dt>90%</dt>\n",
       "\t\t<dd>0.060449801</dd>\n",
       "\t<dt>95%</dt>\n",
       "\t\t<dd>0.0718038975</dd>\n",
       "\t<dt>99%</dt>\n",
       "\t\t<dd>0.0894429970999999</dd>\n",
       "\t<dt>100%</dt>\n",
       "\t\t<dd>0.098965898</dd>\n",
       "</dl>\n"
      ],
      "text/latex": [
       "\\begin{description*}\n",
       "\\item[0\\textbackslash{}\\%] 0.0055332\n",
       "\\item[1\\textbackslash{}\\%] 0.0101142\n",
       "\\item[5\\textbackslash{}\\%] 0.01238475\n",
       "\\item[10\\textbackslash{}\\%] 0.0141928\n",
       "\\item[25\\textbackslash{}\\%] 0.0209271005\n",
       "\\item[50\\textbackslash{}\\%] 0.029985599\n",
       "\\item[75\\textbackslash{}\\%] 0.0396416005\n",
       "\\item[90\\textbackslash{}\\%] 0.060449801\n",
       "\\item[95\\textbackslash{}\\%] 0.0718038975\n",
       "\\item[99\\textbackslash{}\\%] 0.0894429970999999\n",
       "\\item[100\\textbackslash{}\\%] 0.098965898\n",
       "\\end{description*}\n"
      ],
      "text/markdown": [
       "0%\n",
       ":   0.00553321%\n",
       ":   0.01011425%\n",
       ":   0.0123847510%\n",
       ":   0.014192825%\n",
       ":   0.020927100550%\n",
       ":   0.02998559975%\n",
       ":   0.039641600590%\n",
       ":   0.06044980195%\n",
       ":   0.071803897599%\n",
       ":   0.0894429970999999100%\n",
       ":   0.098965898\n",
       "\n"
      ],
      "text/plain": [
       "        0%         1%         5%        10%        25%        50%        75% \n",
       "0.00553320 0.01011420 0.01238475 0.01419280 0.02092710 0.02998560 0.03964160 \n",
       "       90%        95%        99%       100% \n",
       "0.06044980 0.07180390 0.08944300 0.09896590 "
      ]
     },
     "metadata": {},
     "output_type": "display_data"
    }
   ],
   "source": [
    "data_crmrte <- data[!is.na(data$crmrte),]\n",
    "quantile(data_crmrte$crmrte, c(0, .01, .05, .10, .25, .50,  .75, .90, .95, .99, 1.0))"
   ]
  },
  {
   "cell_type": "markdown",
   "metadata": {},
   "source": [
    "Plot a histogram"
   ]
  },
  {
   "cell_type": "code",
   "execution_count": 132,
   "metadata": {},
   "outputs": [
    {
     "data": {
      "image/png": "[encoded data removed]",
      "text/plain": [
       "Plot with title \"Histogram of data_crmrte$crmrte\""
      ]
     },
     "metadata": {
      "image/png": {
       "height": 420,
       "width": 420
      },
      "text/plain": {
       "height": 420,
       "width": 420
      }
     },
     "output_type": "display_data"
    }
   ],
   "source": [
    "hist(data_crmrte$crmrte,breaks=10)"
   ]
  },
  {
   "cell_type": "markdown",
   "metadata": {},
   "source": [
    "Show a boxplot"
   ]
  },
  {
   "cell_type": "code",
   "execution_count": 69,
   "metadata": {},
   "outputs": [
    {
     "data": {
      "image/png": "[encoded data removed]",
      "text/plain": [
       "Plot with title \"Boxplot of crmrte\""
      ]
     },
     "metadata": {
      "image/png": {
       "height": 420,
       "width": 420
      },
      "text/plain": {
       "height": 420,
       "width": 420
      }
     },
     "output_type": "display_data"
    }
   ],
   "source": [
    "boxplot(data_crmrte$crmrte, main=\"Boxplot of crmrte\")"
   ]
  },
  {
   "cell_type": "markdown",
   "metadata": {},
   "source": [
    "Show a scatterplot"
   ]
  },
  {
   "cell_type": "code",
   "execution_count": 70,
   "metadata": {},
   "outputs": [
    {
     "data": {
      "image/png": "[encoded data removed]",
      "text/plain": [
       "plot without title"
      ]
     },
     "metadata": {
      "image/png": {
       "height": 420,
       "width": 420
      },
      "text/plain": {
       "height": 420,
       "width": 420
      }
     },
     "output_type": "display_data"
    }
   ],
   "source": [
    "plot(data_crmrte$crmrte)"
   ]
  },
  {
   "cell_type": "markdown",
   "metadata": {},
   "source": [
    "Here's a quick look at the largest crime rates. The low end of crime rates seems like it has fewer outliers. Nothing immediately jumps out."
   ]
  },
  {
   "cell_type": "code",
   "execution_count": 72,
   "metadata": {},
   "outputs": [
    {
     "data": {
      "text/html": [
       "<table>\n",
       "<caption>A data.frame: 7 × 25</caption>\n",
       "<thead>\n",
       "\t<tr><th></th><th scope=col>county</th><th scope=col>year</th><th scope=col>crmrte</th><th scope=col>prbarr</th><th scope=col>prbconv</th><th scope=col>prbpris</th><th scope=col>avgsen</th><th scope=col>polpc</th><th scope=col>density</th><th scope=col>taxpc</th><th scope=col>...</th><th scope=col>wtuc</th><th scope=col>wtrd</th><th scope=col>wfir</th><th scope=col>wser</th><th scope=col>wmfg</th><th scope=col>wfed</th><th scope=col>wsta</th><th scope=col>wloc</th><th scope=col>mix</th><th scope=col>pctymle</th></tr>\n",
       "\t<tr><th></th><th scope=col>&lt;int&gt;</th><th scope=col>&lt;int&gt;</th><th scope=col>&lt;dbl&gt;</th><th scope=col>&lt;dbl&gt;</th><th scope=col>&lt;fct&gt;</th><th scope=col>&lt;dbl&gt;</th><th scope=col>&lt;dbl&gt;</th><th scope=col>&lt;dbl&gt;</th><th scope=col>&lt;dbl&gt;</th><th scope=col>&lt;dbl&gt;</th><th scope=col>...</th><th scope=col>&lt;dbl&gt;</th><th scope=col>&lt;dbl&gt;</th><th scope=col>&lt;dbl&gt;</th><th scope=col>&lt;dbl&gt;</th><th scope=col>&lt;dbl&gt;</th><th scope=col>&lt;dbl&gt;</th><th scope=col>&lt;dbl&gt;</th><th scope=col>&lt;dbl&gt;</th><th scope=col>&lt;dbl&gt;</th><th scope=col>&lt;dbl&gt;</th></tr>\n",
       "</thead>\n",
       "<tbody>\n",
       "\t<tr><th scope=row>23</th><td> 51</td><td>87</td><td>0.0883849</td><td>0.155248</td><td>0.259833008</td><td>0.407628</td><td>11.93</td><td>0.00190802</td><td>3.9345510</td><td> 35.69936</td><td>...</td><td>412.4720</td><td>213.7524</td><td>324.8357</td><td>257.3344</td><td>441.72</td><td>433.94</td><td>367.34</td><td>333.71</td><td>0.10474319</td><td>0.14223780</td></tr>\n",
       "\t<tr><th scope=row>25</th><td> 55</td><td>87</td><td>0.0790163</td><td>0.224628</td><td>0.207830995</td><td>0.304348</td><td>13.57</td><td>0.00400962</td><td>0.5115089</td><td>119.76145</td><td>...</td><td>445.2762</td><td>189.7436</td><td>284.5933</td><td>221.3903</td><td>319.21</td><td>338.91</td><td>361.68</td><td>326.08</td><td>0.08437271</td><td>0.07613807</td></tr>\n",
       "\t<tr><th scope=row>29</th><td> 63</td><td>87</td><td>0.0706599</td><td>0.133225</td><td>0.459215999</td><td>0.363636</td><td>11.51</td><td>0.00237609</td><td>5.6744967</td><td> 50.19918</td><td>...</td><td>548.9865</td><td>238.9154</td><td>435.1107</td><td>391.3081</td><td>646.85</td><td>563.77</td><td>415.51</td><td>362.58</td><td>0.07585382</td><td>0.09468981</td></tr>\n",
       "\t<tr><th scope=row>30</th><td> 65</td><td>87</td><td>0.0658801</td><td>0.287330</td><td>0.154451996</td><td>0.403922</td><td> 9.84</td><td>0.00185739</td><td>1.1679842</td><td> 30.62824</td><td>...</td><td>540.1061</td><td>209.0579</td><td>316.2955</td><td>216.4589</td><td>313.71</td><td>543.03</td><td>348.88</td><td>329.16</td><td>0.09364294</td><td>0.07622346</td></tr>\n",
       "\t<tr><th scope=row>53</th><td>119</td><td>87</td><td>0.0989659</td><td>0.149094</td><td>0.347799987</td><td>0.486183</td><td> 7.13</td><td>0.00223135</td><td>8.8276520</td><td> 75.67243</td><td>...</td><td>548.3239</td><td>354.6761</td><td>509.4655</td><td>354.3007</td><td>494.30</td><td>568.40</td><td>329.22</td><td>379.77</td><td>0.16869897</td><td>0.07916495</td></tr>\n",
       "\t<tr><th scope=row>57</th><td>129</td><td>87</td><td>0.0834982</td><td>0.236601</td><td>0.393413007</td><td>0.415158</td><td> 9.57</td><td>0.00255849</td><td>6.2864866</td><td> 67.67963</td><td>...</td><td>392.0999</td><td>220.4530</td><td>363.2880</td><td>292.7027</td><td>464.49</td><td>548.49</td><td>421.36</td><td>319.08</td><td>0.07871422</td><td>0.08109921</td></tr>\n",
       "\t<tr><th scope=row>82</th><td>181</td><td>87</td><td>0.0729479</td><td>0.182590</td><td>0.343023002</td><td>0.548023</td><td> 7.06</td><td>0.00172948</td><td>1.5702811</td><td> 27.59179</td><td>...</td><td>365.4716</td><td>279.2273</td><td>325.0271</td><td>213.5822</td><td>290.69</td><td>453.53</td><td>317.23</td><td>286.45</td><td>0.10003893</td><td>0.07977433</td></tr>\n",
       "</tbody>\n",
       "</table>\n"
      ],
      "text/latex": [
       "A data.frame: 7 × 25\n",
       "\\begin{tabular}{r|lllllllllllllllllllll}\n",
       "  & county & year & crmrte & prbarr & prbconv & prbpris & avgsen & polpc & density & taxpc & ... & wtuc & wtrd & wfir & wser & wmfg & wfed & wsta & wloc & mix & pctymle\\\\\n",
       "  & <int> & <int> & <dbl> & <dbl> & <fct> & <dbl> & <dbl> & <dbl> & <dbl> & <dbl> & ... & <dbl> & <dbl> & <dbl> & <dbl> & <dbl> & <dbl> & <dbl> & <dbl> & <dbl> & <dbl>\\\\\n",
       "\\hline\n",
       "\t23 &  51 & 87 & 0.0883849 & 0.155248 & 0.259833008 & 0.407628 & 11.93 & 0.00190802 & 3.9345510 &  35.69936 & ... & 412.4720 & 213.7524 & 324.8357 & 257.3344 & 441.72 & 433.94 & 367.34 & 333.71 & 0.10474319 & 0.14223780\\\\\n",
       "\t25 &  55 & 87 & 0.0790163 & 0.224628 & 0.207830995 & 0.304348 & 13.57 & 0.00400962 & 0.5115089 & 119.76145 & ... & 445.2762 & 189.7436 & 284.5933 & 221.3903 & 319.21 & 338.91 & 361.68 & 326.08 & 0.08437271 & 0.07613807\\\\\n",
       "\t29 &  63 & 87 & 0.0706599 & 0.133225 & 0.459215999 & 0.363636 & 11.51 & 0.00237609 & 5.6744967 &  50.19918 & ... & 548.9865 & 238.9154 & 435.1107 & 391.3081 & 646.85 & 563.77 & 415.51 & 362.58 & 0.07585382 & 0.09468981\\\\\n",
       "\t30 &  65 & 87 & 0.0658801 & 0.287330 & 0.154451996 & 0.403922 &  9.84 & 0.00185739 & 1.1679842 &  30.62824 & ... & 540.1061 & 209.0579 & 316.2955 & 216.4589 & 313.71 & 543.03 & 348.88 & 329.16 & 0.09364294 & 0.07622346\\\\\n",
       "\t53 & 119 & 87 & 0.0989659 & 0.149094 & 0.347799987 & 0.486183 &  7.13 & 0.00223135 & 8.8276520 &  75.67243 & ... & 548.3239 & 354.6761 & 509.4655 & 354.3007 & 494.30 & 568.40 & 329.22 & 379.77 & 0.16869897 & 0.07916495\\\\\n",
       "\t57 & 129 & 87 & 0.0834982 & 0.236601 & 0.393413007 & 0.415158 &  9.57 & 0.00255849 & 6.2864866 &  67.67963 & ... & 392.0999 & 220.4530 & 363.2880 & 292.7027 & 464.49 & 548.49 & 421.36 & 319.08 & 0.07871422 & 0.08109921\\\\\n",
       "\t82 & 181 & 87 & 0.0729479 & 0.182590 & 0.343023002 & 0.548023 &  7.06 & 0.00172948 & 1.5702811 &  27.59179 & ... & 365.4716 & 279.2273 & 325.0271 & 213.5822 & 290.69 & 453.53 & 317.23 & 286.45 & 0.10003893 & 0.07977433\\\\\n",
       "\\end{tabular}\n"
      ],
      "text/markdown": [
       "\n",
       "A data.frame: 7 × 25\n",
       "\n",
       "| <!--/--> | county &lt;int&gt; | year &lt;int&gt; | crmrte &lt;dbl&gt; | prbarr &lt;dbl&gt; | prbconv &lt;fct&gt; | prbpris &lt;dbl&gt; | avgsen &lt;dbl&gt; | polpc &lt;dbl&gt; | density &lt;dbl&gt; | taxpc &lt;dbl&gt; | ... ... | wtuc &lt;dbl&gt; | wtrd &lt;dbl&gt; | wfir &lt;dbl&gt; | wser &lt;dbl&gt; | wmfg &lt;dbl&gt; | wfed &lt;dbl&gt; | wsta &lt;dbl&gt; | wloc &lt;dbl&gt; | mix &lt;dbl&gt; | pctymle &lt;dbl&gt; |\n",
       "|---|---|---|---|---|---|---|---|---|---|---|---|---|---|---|---|---|---|---|---|---|---|\n",
       "| 23 |  51 | 87 | 0.0883849 | 0.155248 | 0.259833008 | 0.407628 | 11.93 | 0.00190802 | 3.9345510 |  35.69936 | ... | 412.4720 | 213.7524 | 324.8357 | 257.3344 | 441.72 | 433.94 | 367.34 | 333.71 | 0.10474319 | 0.14223780 |\n",
       "| 25 |  55 | 87 | 0.0790163 | 0.224628 | 0.207830995 | 0.304348 | 13.57 | 0.00400962 | 0.5115089 | 119.76145 | ... | 445.2762 | 189.7436 | 284.5933 | 221.3903 | 319.21 | 338.91 | 361.68 | 326.08 | 0.08437271 | 0.07613807 |\n",
       "| 29 |  63 | 87 | 0.0706599 | 0.133225 | 0.459215999 | 0.363636 | 11.51 | 0.00237609 | 5.6744967 |  50.19918 | ... | 548.9865 | 238.9154 | 435.1107 | 391.3081 | 646.85 | 563.77 | 415.51 | 362.58 | 0.07585382 | 0.09468981 |\n",
       "| 30 |  65 | 87 | 0.0658801 | 0.287330 | 0.154451996 | 0.403922 |  9.84 | 0.00185739 | 1.1679842 |  30.62824 | ... | 540.1061 | 209.0579 | 316.2955 | 216.4589 | 313.71 | 543.03 | 348.88 | 329.16 | 0.09364294 | 0.07622346 |\n",
       "| 53 | 119 | 87 | 0.0989659 | 0.149094 | 0.347799987 | 0.486183 |  7.13 | 0.00223135 | 8.8276520 |  75.67243 | ... | 548.3239 | 354.6761 | 509.4655 | 354.3007 | 494.30 | 568.40 | 329.22 | 379.77 | 0.16869897 | 0.07916495 |\n",
       "| 57 | 129 | 87 | 0.0834982 | 0.236601 | 0.393413007 | 0.415158 |  9.57 | 0.00255849 | 6.2864866 |  67.67963 | ... | 392.0999 | 220.4530 | 363.2880 | 292.7027 | 464.49 | 548.49 | 421.36 | 319.08 | 0.07871422 | 0.08109921 |\n",
       "| 82 | 181 | 87 | 0.0729479 | 0.182590 | 0.343023002 | 0.548023 |  7.06 | 0.00172948 | 1.5702811 |  27.59179 | ... | 365.4716 | 279.2273 | 325.0271 | 213.5822 | 290.69 | 453.53 | 317.23 | 286.45 | 0.10003893 | 0.07977433 |\n",
       "\n"
      ],
      "text/plain": [
       "   county year crmrte    prbarr   prbconv     prbpris  avgsen polpc     \n",
       "23  51    87   0.0883849 0.155248 0.259833008 0.407628 11.93  0.00190802\n",
       "25  55    87   0.0790163 0.224628 0.207830995 0.304348 13.57  0.00400962\n",
       "29  63    87   0.0706599 0.133225 0.459215999 0.363636 11.51  0.00237609\n",
       "30  65    87   0.0658801 0.287330 0.154451996 0.403922  9.84  0.00185739\n",
       "53 119    87   0.0989659 0.149094 0.347799987 0.486183  7.13  0.00223135\n",
       "57 129    87   0.0834982 0.236601 0.393413007 0.415158  9.57  0.00255849\n",
       "82 181    87   0.0729479 0.182590 0.343023002 0.548023  7.06  0.00172948\n",
       "   density   taxpc     ... wtuc     wtrd     wfir     wser     wmfg   wfed  \n",
       "23 3.9345510  35.69936 ... 412.4720 213.7524 324.8357 257.3344 441.72 433.94\n",
       "25 0.5115089 119.76145 ... 445.2762 189.7436 284.5933 221.3903 319.21 338.91\n",
       "29 5.6744967  50.19918 ... 548.9865 238.9154 435.1107 391.3081 646.85 563.77\n",
       "30 1.1679842  30.62824 ... 540.1061 209.0579 316.2955 216.4589 313.71 543.03\n",
       "53 8.8276520  75.67243 ... 548.3239 354.6761 509.4655 354.3007 494.30 568.40\n",
       "57 6.2864866  67.67963 ... 392.0999 220.4530 363.2880 292.7027 464.49 548.49\n",
       "82 1.5702811  27.59179 ... 365.4716 279.2273 325.0271 213.5822 290.69 453.53\n",
       "   wsta   wloc   mix        pctymle   \n",
       "23 367.34 333.71 0.10474319 0.14223780\n",
       "25 361.68 326.08 0.08437271 0.07613807\n",
       "29 415.51 362.58 0.07585382 0.09468981\n",
       "30 348.88 329.16 0.09364294 0.07622346\n",
       "53 329.22 379.77 0.16869897 0.07916495\n",
       "57 421.36 319.08 0.07871422 0.08109921\n",
       "82 317.23 286.45 0.10003893 0.07977433"
      ]
     },
     "metadata": {},
     "output_type": "display_data"
    }
   ],
   "source": [
    "data_crmrte[data_crmrte$crmrte > 0.065,] "
   ]
  },
  {
   "cell_type": "markdown",
   "metadata": {},
   "source": [
    "#### Crime rate looks like a candidate to be log tranformed given its distribution"
   ]
  },
  {
   "cell_type": "code",
   "execution_count": 137,
   "metadata": {},
   "outputs": [
    {
     "data": {
      "text/html": [
       "<dl class=dl-horizontal>\n",
       "\t<dt>0%</dt>\n",
       "\t\t<dd>0.440394575741618</dd>\n",
       "\t<dt>1%</dt>\n",
       "\t\t<dd>0.695487863996008</dd>\n",
       "\t<dt>5%</dt>\n",
       "\t\t<dd>0.805715780358018</dd>\n",
       "\t<dt>10%</dt>\n",
       "\t\t<dd>0.883469975239386</dd>\n",
       "\t<dt>25%</dt>\n",
       "\t\t<dd>1.12882975005382</dd>\n",
       "\t<dt>50%</dt>\n",
       "\t\t<dd>1.38593427129533</dd>\n",
       "\t<dt>75%</dt>\n",
       "\t\t<dd>1.60194434688136</dd>\n",
       "\t<dt>90%</dt>\n",
       "\t\t<dd>1.95231532064829</dd>\n",
       "\t<dt>95%</dt>\n",
       "\t\t<dd>2.10164200129101</dd>\n",
       "\t<dt>99%</dt>\n",
       "\t\t<dd>2.2965169799503</dd>\n",
       "\t<dt>100%</dt>\n",
       "\t\t<dd>2.38844987789813</dd>\n",
       "</dl>\n"
      ],
      "text/latex": [
       "\\begin{description*}\n",
       "\\item[0\\textbackslash{}\\%] 0.440394575741618\n",
       "\\item[1\\textbackslash{}\\%] 0.695487863996008\n",
       "\\item[5\\textbackslash{}\\%] 0.805715780358018\n",
       "\\item[10\\textbackslash{}\\%] 0.883469975239386\n",
       "\\item[25\\textbackslash{}\\%] 1.12882975005382\n",
       "\\item[50\\textbackslash{}\\%] 1.38593427129533\n",
       "\\item[75\\textbackslash{}\\%] 1.60194434688136\n",
       "\\item[90\\textbackslash{}\\%] 1.95231532064829\n",
       "\\item[95\\textbackslash{}\\%] 2.10164200129101\n",
       "\\item[99\\textbackslash{}\\%] 2.2965169799503\n",
       "\\item[100\\textbackslash{}\\%] 2.38844987789813\n",
       "\\end{description*}\n"
      ],
      "text/markdown": [
       "0%\n",
       ":   0.4403945757416181%\n",
       ":   0.6954878639960085%\n",
       ":   0.80571578035801810%\n",
       ":   0.88346997523938625%\n",
       ":   1.1288297500538250%\n",
       ":   1.3859342712953375%\n",
       ":   1.6019443468813690%\n",
       ":   1.9523153206482995%\n",
       ":   2.1016420012910199%\n",
       ":   2.2965169799503100%\n",
       ":   2.38844987789813\n",
       "\n"
      ],
      "text/plain": [
       "       0%        1%        5%       10%       25%       50%       75%       90% \n",
       "0.4403946 0.6954879 0.8057158 0.8834700 1.1288298 1.3859343 1.6019443 1.9523153 \n",
       "      95%       99%      100% \n",
       "2.1016420 2.2965170 2.3884499 "
      ]
     },
     "metadata": {},
     "output_type": "display_data"
    }
   ],
   "source": [
    "data_log_crmrte <- data[!is.na(data$crmrte),]\n",
    "data_log_crmrte$log_crmrte <- log(1+data_log_crmrte$crmrte*100)\n",
    "quantile(data_log_crmrte$log_crmrte, c(0, .01, .05, .10, .25, .50,  .75, .90, .95, .99, 1.0))"
   ]
  },
  {
   "cell_type": "code",
   "execution_count": 138,
   "metadata": {},
   "outputs": [
    {
     "data": {
      "image/png": "[encoded data removed]",
      "text/plain": [
       "Plot with title \"Histogram of data_log_crmrte$log_crmrte\""
      ]
     },
     "metadata": {
      "image/png": {
       "height": 420,
       "width": 420
      },
      "text/plain": {
       "height": 420,
       "width": 420
      }
     },
     "output_type": "display_data"
    }
   ],
   "source": [
    "hist(data_log_crmrte$log_crmrte,breaks=10)"
   ]
  },
  {
   "cell_type": "code",
   "execution_count": 139,
   "metadata": {},
   "outputs": [
    {
     "data": {
      "image/png": "[encoded data removed]",
      "text/plain": [
       "Plot with title \"Boxplot of log of crmrte\""
      ]
     },
     "metadata": {
      "image/png": {
       "height": 420,
       "width": 420
      },
      "text/plain": {
       "height": 420,
       "width": 420
      }
     },
     "output_type": "display_data"
    }
   ],
   "source": [
    "boxplot(data_log_crmrte$log_crmrte, main=\"Boxplot of log of crmrte\")"
   ]
  },
  {
   "cell_type": "code",
   "execution_count": 140,
   "metadata": {},
   "outputs": [
    {
     "data": {
      "image/png": "[encoded data removed]",
      "text/plain": [
       "plot without title"
      ]
     },
     "metadata": {
      "image/png": {
       "height": 420,
       "width": 420
      },
      "text/plain": {
       "height": 420,
       "width": 420
      }
     },
     "output_type": "display_data"
    }
   ],
   "source": [
    "plot(data_log_crmrte$log_crmrte)"
   ]
  },
  {
   "cell_type": "markdown",
   "metadata": {},
   "source": [
    "## Next the dependent variables are examined"
   ]
  },
  {
   "cell_type": "markdown",
   "metadata": {},
   "source": [
    "### Similar variables are grouped together"
   ]
  },
  {
   "attachments": {},
   "cell_type": "markdown",
   "metadata": {},
   "source": [
    "#### Group 1 - Deterrent Data (prbarr, prbconv, prbpris, avgsen, polpc)"
   ]
  },
  {
   "cell_type": "code",
   "execution_count": 74,
   "metadata": {},
   "outputs": [
    {
     "name": "stderr",
     "output_type": "stream",
     "text": [
      "Warning message in eval(expr, envir, enclos):\n",
      "\"NAs introduced by coercion\"\n"
     ]
    }
   ],
   "source": [
    "deterrent_data <- data[,c('prbarr','prbconv','prbpris','crmrte',\n",
    "                    'avgsen','polpc')]\n",
    "deterrent_data$prbconv <- as.numeric(as.character(deterrent_data$prbconv))"
   ]
  },
  {
   "cell_type": "code",
   "execution_count": 80,
   "metadata": {
    "scrolled": true
   },
   "outputs": [
    {
     "data": {
      "image/png": "[encoded data removed]",
      "text/plain": [
       "plot without title"
      ]
     },
     "metadata": {
      "image/png": {
       "height": 420,
       "width": 420
      },
      "text/plain": {
       "height": 420,
       "width": 420
      }
     },
     "output_type": "display_data"
    }
   ],
   "source": [
    "ggplot(gather(deterrent_data[1:91,c('prbarr','prbconv','prbpris','avgsen','polpc')]), aes(value)) + \n",
    "  geom_histogram(bins = 10) + \n",
    "  facet_wrap(~key, scales = 'free_x')"
   ]
  },
  {
   "cell_type": "code",
   "execution_count": 77,
   "metadata": {},
   "outputs": [],
   "source": [
    "my_vars1 <- c(\"prbarr\",\"prbconv\",\"prbpris\")\n",
    "deterrent_data2 <- deterrent_data[my_vars1]\n",
    "my_vars2 <- c(\"polpc\")\n",
    "deterrent_data3 <- deterrent_data[my_vars2]"
   ]
  },
  {
   "cell_type": "code",
   "execution_count": 79,
   "metadata": {},
   "outputs": [
    {
     "data": {
      "image/png": "[encoded data removed]",
      "text/plain": [
       "Plot with title \"Boxplot of prbarr, prbconv, prbpris\""
      ]
     },
     "metadata": {
      "image/png": {
       "height": 420,
       "width": 420
      },
      "text/plain": {
       "height": 420,
       "width": 420
      }
     },
     "output_type": "display_data"
    },
    {
     "data": {
      "image/png": "[encoded data removed]",
      "text/plain": [
       "Plot with title \"Boxplot of polpc\""
      ]
     },
     "metadata": {
      "image/png": {
       "height": 420,
       "width": 420
      },
      "text/plain": {
       "height": 420,
       "width": 420
      }
     },
     "output_type": "display_data"
    }
   ],
   "source": [
    "boxplot(deterrent_data2, main=\"Boxplot of prbarr, prbconv, prbpris\")\n",
    "boxplot(deterrent_data3, main=\"Boxplot of polpc\")"
   ]
  },
  {
   "cell_type": "markdown",
   "metadata": {},
   "source": [
    "The biggest outlier is observation 51. This observation has the lowest crime rate in the data set, obviously the highest polpc (police per capita), the highest avg sentence, the third highest prbconv, and the lowest pctmin80. This observation is likely to affect many of the regressions so it will need to be examined further."
   ]
  },
  {
   "attachments": {},
   "cell_type": "markdown",
   "metadata": {},
   "source": [
    "#### Group 2 - Wages (wcon, wtuc, wtrd, wfir, wser, wmfg, wfed, wsta, wloc)"
   ]
  },
  {
   "cell_type": "code",
   "execution_count": 82,
   "metadata": {},
   "outputs": [],
   "source": [
    "#create a dataframe of just the wage variables\n",
    "wages_data <- data[,c('wcon','wtuc','wtrd','wfir', 'wser',\n",
    "                    'wmfg','wfed', 'wsta', 'wloc')]"
   ]
  },
  {
   "cell_type": "code",
   "execution_count": 83,
   "metadata": {},
   "outputs": [
    {
     "data": {
      "image/png": "[encoded data removed]",
      "text/plain": [
       "plot without title"
      ]
     },
     "metadata": {
      "image/png": {
       "height": 420,
       "width": 420
      },
      "text/plain": {
       "height": 420,
       "width": 420
      }
     },
     "output_type": "display_data"
    }
   ],
   "source": [
    "#plot histograms of just the wage variables\n",
    "ggplot(gather(wages_data[1:91,]), aes(value)) + \n",
    "  geom_histogram(bins = 10) + \n",
    "  facet_wrap(~key, scales = 'free_x')"
   ]
  },
  {
   "cell_type": "code",
   "execution_count": 84,
   "metadata": {},
   "outputs": [
    {
     "data": {
      "image/png": "[encoded data removed]",
      "text/plain": [
       "plot without title"
      ]
     },
     "metadata": {
      "image/png": {
       "height": 420,
       "width": 420
      },
      "text/plain": {
       "height": 420,
       "width": 420
      }
     },
     "output_type": "display_data"
    }
   ],
   "source": [
    "#generate boxplots of just the wage variables\n",
    "boxplot(wages_data)"
   ]
  },
  {
   "cell_type": "markdown",
   "metadata": {},
   "source": [
    "There is an obvious outlier in wser. Let's take a closer look."
   ]
  },
  {
   "cell_type": "code",
   "execution_count": 20,
   "metadata": {},
   "outputs": [
    {
     "data": {
      "text/html": [
       "<table>\n",
       "<caption>A data.frame: 1 × 25</caption>\n",
       "<thead>\n",
       "\t<tr><th></th><th scope=col>county</th><th scope=col>year</th><th scope=col>crmrte</th><th scope=col>prbarr</th><th scope=col>prbconv</th><th scope=col>prbpris</th><th scope=col>avgsen</th><th scope=col>polpc</th><th scope=col>density</th><th scope=col>taxpc</th><th scope=col>...</th><th scope=col>wtuc</th><th scope=col>wtrd</th><th scope=col>wfir</th><th scope=col>wser</th><th scope=col>wmfg</th><th scope=col>wfed</th><th scope=col>wsta</th><th scope=col>wloc</th><th scope=col>mix</th><th scope=col>pctymle</th></tr>\n",
       "\t<tr><th></th><th scope=col>&lt;int&gt;</th><th scope=col>&lt;int&gt;</th><th scope=col>&lt;dbl&gt;</th><th scope=col>&lt;dbl&gt;</th><th scope=col>&lt;fct&gt;</th><th scope=col>&lt;dbl&gt;</th><th scope=col>&lt;dbl&gt;</th><th scope=col>&lt;dbl&gt;</th><th scope=col>&lt;dbl&gt;</th><th scope=col>&lt;dbl&gt;</th><th scope=col>...</th><th scope=col>&lt;dbl&gt;</th><th scope=col>&lt;dbl&gt;</th><th scope=col>&lt;dbl&gt;</th><th scope=col>&lt;dbl&gt;</th><th scope=col>&lt;dbl&gt;</th><th scope=col>&lt;dbl&gt;</th><th scope=col>&lt;dbl&gt;</th><th scope=col>&lt;dbl&gt;</th><th scope=col>&lt;dbl&gt;</th><th scope=col>&lt;dbl&gt;</th></tr>\n",
       "</thead>\n",
       "<tbody>\n",
       "\t<tr><th scope=row>84</th><td>185</td><td>87</td><td>0.0108703</td><td>0.195266</td><td>2.121210098</td><td>0.442857</td><td>5.38</td><td>0.0012221</td><td>0.3887588</td><td>40.82454</td><td>...</td><td>331.565</td><td>167.3726</td><td>264.4231</td><td>2177.068</td><td>247.72</td><td>381.33</td><td>367.25</td><td>300.13</td><td>0.04968944</td><td>0.07008217</td></tr>\n",
       "</tbody>\n",
       "</table>\n"
      ],
      "text/latex": [
       "A data.frame: 1 × 25\n",
       "\\begin{tabular}{r|lllllllllllllllllllll}\n",
       "  & county & year & crmrte & prbarr & prbconv & prbpris & avgsen & polpc & density & taxpc & ... & wtuc & wtrd & wfir & wser & wmfg & wfed & wsta & wloc & mix & pctymle\\\\\n",
       "  & <int> & <int> & <dbl> & <dbl> & <fct> & <dbl> & <dbl> & <dbl> & <dbl> & <dbl> & ... & <dbl> & <dbl> & <dbl> & <dbl> & <dbl> & <dbl> & <dbl> & <dbl> & <dbl> & <dbl>\\\\\n",
       "\\hline\n",
       "\t84 & 185 & 87 & 0.0108703 & 0.195266 & 2.121210098 & 0.442857 & 5.38 & 0.0012221 & 0.3887588 & 40.82454 & ... & 331.565 & 167.3726 & 264.4231 & 2177.068 & 247.72 & 381.33 & 367.25 & 300.13 & 0.04968944 & 0.07008217\\\\\n",
       "\\end{tabular}\n"
      ],
      "text/markdown": [
       "\n",
       "A data.frame: 1 × 25\n",
       "\n",
       "| <!--/--> | county &lt;int&gt; | year &lt;int&gt; | crmrte &lt;dbl&gt; | prbarr &lt;dbl&gt; | prbconv &lt;fct&gt; | prbpris &lt;dbl&gt; | avgsen &lt;dbl&gt; | polpc &lt;dbl&gt; | density &lt;dbl&gt; | taxpc &lt;dbl&gt; | ... ... | wtuc &lt;dbl&gt; | wtrd &lt;dbl&gt; | wfir &lt;dbl&gt; | wser &lt;dbl&gt; | wmfg &lt;dbl&gt; | wfed &lt;dbl&gt; | wsta &lt;dbl&gt; | wloc &lt;dbl&gt; | mix &lt;dbl&gt; | pctymle &lt;dbl&gt; |\n",
       "|---|---|---|---|---|---|---|---|---|---|---|---|---|---|---|---|---|---|---|---|---|---|\n",
       "| 84 | 185 | 87 | 0.0108703 | 0.195266 | 2.121210098 | 0.442857 | 5.38 | 0.0012221 | 0.3887588 | 40.82454 | ... | 331.565 | 167.3726 | 264.4231 | 2177.068 | 247.72 | 381.33 | 367.25 | 300.13 | 0.04968944 | 0.07008217 |\n",
       "\n"
      ],
      "text/plain": [
       "   county year crmrte    prbarr   prbconv     prbpris  avgsen polpc    \n",
       "84 185    87   0.0108703 0.195266 2.121210098 0.442857 5.38   0.0012221\n",
       "   density   taxpc    ... wtuc    wtrd     wfir     wser     wmfg   wfed  \n",
       "84 0.3887588 40.82454 ... 331.565 167.3726 264.4231 2177.068 247.72 381.33\n",
       "   wsta   wloc   mix        pctymle   \n",
       "84 367.25 300.13 0.04968944 0.07008217"
      ]
     },
     "metadata": {},
     "output_type": "display_data"
    }
   ],
   "source": [
    "data[data$wser>2000 & !is.na(data$wser),] "
   ]
  },
  {
   "cell_type": "markdown",
   "metadata": {},
   "source": [
    "This seems like a typo.  \n",
    "  \n",
    "Argument in favor of removing because it's a mistake:\n",
    "- The next highest average weekly wage in any sector is 646 versus the value of 2177.  \n",
    "- If you take the average of all weekly wages it has the highest average but only the 24th highest taxpc.\n",
    "  \n",
    "Argument in favor of keeping:\n",
    "- This county's taxpc is 24th highest. If you replace this county with the average service industry for all counties its average wage is the 24th lowest. Taxes can come from a lot of places but that would argue in favor - where else would the tax come from? "
   ]
  },
  {
   "cell_type": "markdown",
   "metadata": {},
   "source": [
    "#### Group 3 - Dummies (west, central, urban)"
   ]
  },
  {
   "cell_type": "code",
   "execution_count": 86,
   "metadata": {},
   "outputs": [],
   "source": [
    "#create a dataframe of just the wage variables\n",
    "dummies_data <- data[,c('west','central','urban')]"
   ]
  },
  {
   "cell_type": "code",
   "execution_count": 89,
   "metadata": {
    "scrolled": true
   },
   "outputs": [
    {
     "data": {
      "image/png": "[encoded data removed]",
      "text/plain": [
       "plot without title"
      ]
     },
     "metadata": {
      "image/png": {
       "height": 420,
       "width": 420
      },
      "text/plain": {
       "height": 420,
       "width": 420
      }
     },
     "output_type": "display_data"
    }
   ],
   "source": [
    "#plot histograms of just the dummy variables\n",
    "ggplot(gather(dummies_data[1:91,]), aes(value)) + \n",
    "  geom_histogram(bins = 2) + \n",
    "  facet_wrap(~key)"
   ]
  },
  {
   "cell_type": "markdown",
   "metadata": {},
   "source": [
    "#### Group 4 - Demographic (density, taxpc, pctmin80, mix, pctymle)"
   ]
  },
  {
   "cell_type": "code",
   "execution_count": 90,
   "metadata": {},
   "outputs": [],
   "source": [
    "#create a dataframe of just the demographic variables\n",
    "demographic_data <- data[,c('density', 'taxpc', 'pctmin80', 'mix', 'pctymle')]"
   ]
  },
  {
   "cell_type": "code",
   "execution_count": 91,
   "metadata": {
    "scrolled": false
   },
   "outputs": [
    {
     "data": {
      "image/png": "[encoded data removed]",
      "text/plain": [
       "plot without title"
      ]
     },
     "metadata": {
      "image/png": {
       "height": 420,
       "width": 420
      },
      "text/plain": {
       "height": 420,
       "width": 420
      }
     },
     "output_type": "display_data"
    }
   ],
   "source": [
    "#plot histograms of just the demographic variables\n",
    "ggplot(gather(demographic_data[1:91,]), aes(value)) + \n",
    "  geom_histogram(bins = 10) + \n",
    "  facet_wrap(~key, scales = 'free_x')"
   ]
  },
  {
   "cell_type": "markdown",
   "metadata": {},
   "source": [
    "Lots of skewed distributions above, particularly in pctymle and taxpc"
   ]
  },
  {
   "cell_type": "code",
   "execution_count": 105,
   "metadata": {},
   "outputs": [
    {
     "data": {
      "image/png": "[encoded data removed]",
      "text/plain": [
       "plot without title"
      ]
     },
     "metadata": {
      "image/png": {
       "height": 420,
       "width": 420
      },
      "text/plain": {
       "height": 420,
       "width": 420
      }
     },
     "output_type": "display_data"
    },
    {
     "data": {
      "image/png": "[encoded data removed]",
      "text/plain": [
       "plot without title"
      ]
     },
     "metadata": {
      "image/png": {
       "height": 420,
       "width": 420
      },
      "text/plain": {
       "height": 420,
       "width": 420
      }
     },
     "output_type": "display_data"
    },
    {
     "data": {
      "image/png": "[encoded data removed]",
      "text/plain": [
       "plot without title"
      ]
     },
     "metadata": {
      "image/png": {
       "height": 420,
       "width": 420
      },
      "text/plain": {
       "height": 420,
       "width": 420
      }
     },
     "output_type": "display_data"
    },
    {
     "data": {
      "image/png": "[encoded data removed]",
      "text/plain": [
       "plot without title"
      ]
     },
     "metadata": {
      "image/png": {
       "height": 420,
       "width": 420
      },
      "text/plain": {
       "height": 420,
       "width": 420
      }
     },
     "output_type": "display_data"
    }
   ],
   "source": [
    "#generate boxplots of just the demographic variables\n",
    "demographic_data2 <- demographic_data[c(\"taxpc\", \"pctmin80\")]\n",
    "boxplot(demographic_data2)\n",
    "demographic_data3 <- demographic_data[c(\"pctymle\")]\n",
    "boxplot(demographic_data3)\n",
    "demographic_data4 <- demographic_data[c(\"density\")]\n",
    "boxplot(demographic_data4)\n",
    "demographic_data5 <- demographic_data[c(\"mix\")]\n",
    "boxplot(demographic_data5)"
   ]
  },
  {
   "cell_type": "markdown",
   "metadata": {},
   "source": [
    "#### Add transformed variables that make sense (ones that are possibly under control for a politician).  Transform prbarr, prbconv, prbpris, avgsen, polpc, taxpc"
   ]
  },
  {
   "cell_type": "code",
   "execution_count": 167,
   "metadata": {},
   "outputs": [],
   "source": [
    "#create a dataframe of just the demographic variables\n",
    "transformed_data <- data[1:91,]\n",
    "transformed_data$prbconv <- as.numeric(as.character(transformed_data$prbconv))\n",
    "transformed_data$log_prbarr <- log(1+transformed_data$prbarr*100)\n",
    "transformed_data$log_prbconv <- log(1+transformed_data$prbconv*100)\n",
    "transformed_data$log_prbpris <- log(1+transformed_data$prbpris*100)\n",
    "transformed_data$log_avgsen <- log(1+transformed_data$avgsen*100)\n",
    "transformed_data$log_polpc <- log(1+transformed_data$polpc*100)\n",
    "transformed_data$log_taxpc <- log(1+transformed_data$taxpc*100)\n",
    "transformed_data <- transformed_data[,c('log_prbarr', 'log_prbconv', 'log_prbpris', 'log_avgsen', 'log_polpc', 'log_taxpc')]"
   ]
  },
  {
   "cell_type": "code",
   "execution_count": 170,
   "metadata": {
    "scrolled": false
   },
   "outputs": [
    {
     "data": {
      "image/png": "[encoded data removed]",
      "text/plain": [
       "plot without title"
      ]
     },
     "metadata": {
      "image/png": {
       "height": 420,
       "width": 420
      },
      "text/plain": {
       "height": 420,
       "width": 420
      }
     },
     "output_type": "display_data"
    }
   ],
   "source": [
    "#plot histograms of just the demographic variables\n",
    "ggplot(gather(transformed_data[]), aes(value)) + \n",
    "  geom_histogram(bins = 10) + \n",
    "  facet_wrap(~key, scales = 'free_x')"
   ]
  },
  {
   "cell_type": "markdown",
   "metadata": {},
   "source": [
    "#### Create a final data set with transformed crime rate and NA's removed"
   ]
  },
  {
   "cell_type": "code",
   "execution_count": 174,
   "metadata": {},
   "outputs": [],
   "source": [
    "#remove NA's\n",
    "data_cleaned <- data[!is.na(data$crmrte),]\n",
    "#convert the y variable\n",
    "data_cleaned$log_crmrte <- log(1+data_cleaned$crmrte*100)\n",
    "#clean up prbconv\n",
    "data_cleaned$prbconv <- as.numeric(as.character(data_cleaned$prbconv))\n",
    "#convert the x's\n",
    "data_cleaned$log_prbarr <- log(1+data_cleaned$prbarr*100)\n",
    "data_cleaned$log_prbconv <- log(1+data_cleaned$prbconv*100)\n",
    "data_cleaned$log_prbpris <- log(1+data_cleaned$prbpris*100)\n",
    "data_cleaned$log_avgsen <- log(1+data_cleaned$avgsen*100)\n",
    "data_cleaned$log_polpc <- log(1+data_cleaned$polpc*100)\n",
    "data_cleaned$log_taxpc <- log(1+data_cleaned$taxpc*100)\n"
   ]
  },
  {
   "cell_type": "markdown",
   "metadata": {},
   "source": [
    "# Models"
   ]
  },
  {
   "cell_type": "markdown",
   "metadata": {},
   "source": [
    "## All-In Model"
   ]
  },
  {
   "cell_type": "markdown",
   "metadata": {},
   "source": [
    "Start with a model that has all the variables in the data set except year, which has no variation so is a constant."
   ]
  },
  {
   "cell_type": "markdown",
   "metadata": {},
   "source": [
    "Level-Level Model"
   ]
  },
  {
   "cell_type": "code",
   "execution_count": 159,
   "metadata": {},
   "outputs": [],
   "source": [
    "all_in_model <- lm(crmrte ~ prbarr + prbconv + prbpris + avgsen + polpc + density\n",
    "                            + taxpc + west + central + urban + pctmin80 + wcon\n",
    "                            + wtuc + wtrd + wfir + wser + wmfg + wfed + wsta + wloc\n",
    "                            + mix + pctymle,\n",
    "                       data = data_cleaned)\n"
   ]
  },
  {
   "cell_type": "code",
   "execution_count": 160,
   "metadata": {},
   "outputs": [
    {
     "data": {
      "text/plain": [
       "\n",
       "Call:\n",
       "lm(formula = crmrte ~ prbarr + prbconv + prbpris + avgsen + polpc + \n",
       "    density + taxpc + west + central + urban + pctmin80 + wcon + \n",
       "    wtuc + wtrd + wfir + wser + wmfg + wfed + wsta + wloc + mix + \n",
       "    pctymle, data = data_cleaned)\n",
       "\n",
       "Residuals:\n",
       "      Min        1Q    Median        3Q       Max \n",
       "-0.016815 -0.003860 -0.000455  0.004558  0.022847 \n",
       "\n",
       "Coefficients:\n",
       "              Estimate Std. Error t value Pr(>|t|)    \n",
       "(Intercept)  1.369e-02  1.937e-02   0.707 0.482068    \n",
       "prbarr      -5.150e-02  9.779e-03  -5.266 1.54e-06 ***\n",
       "prbconv     -1.863e-02  3.740e-03  -4.980 4.60e-06 ***\n",
       "prbpris      3.127e-03  1.187e-02   0.263 0.793017    \n",
       "avgsen      -4.045e-04  4.073e-04  -0.993 0.324176    \n",
       "polpc        6.966e+00  1.529e+00   4.555 2.23e-05 ***\n",
       "density      5.317e-03  1.338e-03   3.973 0.000174 ***\n",
       "taxpc        1.624e-04  9.513e-05   1.707 0.092385 .  \n",
       "west        -2.550e-03  3.796e-03  -0.672 0.504001    \n",
       "central     -4.257e-03  2.749e-03  -1.549 0.126043    \n",
       "urban       -6.068e-05  6.090e-03  -0.010 0.992079    \n",
       "pctmin80     3.251e-04  9.189e-05   3.538 0.000732 ***\n",
       "wcon         2.274e-05  2.738e-05   0.831 0.408989    \n",
       "wtuc         6.350e-06  1.494e-05   0.425 0.672203    \n",
       "wtrd         2.938e-05  4.511e-05   0.651 0.516962    \n",
       "wfir        -3.543e-05  2.694e-05  -1.315 0.192951    \n",
       "wser        -1.718e-06  5.635e-06  -0.305 0.761458    \n",
       "wmfg        -9.109e-06  1.406e-05  -0.648 0.519140    \n",
       "wfed         2.916e-05  2.537e-05   1.150 0.254320    \n",
       "wsta        -2.229e-05  2.577e-05  -0.865 0.390003    \n",
       "wloc         1.492e-05  4.782e-05   0.312 0.755985    \n",
       "mix         -1.867e-02  1.457e-02  -1.281 0.204513    \n",
       "pctymle      1.014e-01  4.498e-02   2.255 0.027370 *  \n",
       "---\n",
       "Signif. codes:  0 '***' 0.001 '**' 0.01 '*' 0.05 '.' 0.1 ' ' 1\n",
       "\n",
       "Residual standard error: 0.008241 on 68 degrees of freedom\n",
       "Multiple R-squared:  0.855,\tAdjusted R-squared:  0.8081 \n",
       "F-statistic: 18.23 on 22 and 68 DF,  p-value: < 2.2e-16\n"
      ]
     },
     "metadata": {},
     "output_type": "display_data"
    }
   ],
   "source": [
    "summary(all_in_model)"
   ]
  },
  {
   "cell_type": "markdown",
   "metadata": {},
   "source": [
    "Log-Level Model"
   ]
  },
  {
   "cell_type": "code",
   "execution_count": 171,
   "metadata": {},
   "outputs": [],
   "source": [
    "all_in_model_log_level <- lm(log_crmrte ~ prbarr + prbconv + prbpris + avgsen + polpc + density\n",
    "                            + taxpc + west + central + urban + pctmin80 + wcon\n",
    "                            + wtuc + wtrd + wfir + wser + wmfg + wfed + wsta + wloc\n",
    "                            + mix + pctymle,\n",
    "                       data = data_cleaned)"
   ]
  },
  {
   "cell_type": "code",
   "execution_count": 172,
   "metadata": {},
   "outputs": [
    {
     "data": {
      "text/plain": [
       "\n",
       "Call:\n",
       "lm(formula = log_crmrte ~ prbarr + prbconv + prbpris + avgsen + \n",
       "    polpc + density + taxpc + west + central + urban + pctmin80 + \n",
       "    wcon + wtuc + wtrd + wfir + wser + wmfg + wfed + wsta + wloc + \n",
       "    mix + pctymle, data = data_cleaned)\n",
       "\n",
       "Residuals:\n",
       "     Min       1Q   Median       3Q      Max \n",
       "-0.44410 -0.07844  0.00199  0.08045  0.34237 \n",
       "\n",
       "Coefficients:\n",
       "              Estimate Std. Error t value Pr(>|t|)    \n",
       "(Intercept)  9.878e-01  4.073e-01   2.425 0.017973 *  \n",
       "prbarr      -1.305e+00  2.057e-01  -6.347 2.08e-08 ***\n",
       "prbconv     -4.670e-01  7.865e-02  -5.937 1.09e-07 ***\n",
       "prbpris     -2.723e-02  2.496e-01  -0.109 0.913455    \n",
       "avgsen      -7.027e-03  8.566e-03  -0.820 0.414876    \n",
       "polpc        1.347e+02  3.216e+01   4.189 8.26e-05 ***\n",
       "density      9.199e-02  2.815e-02   3.268 0.001699 ** \n",
       "taxpc        2.307e-03  2.001e-03   1.153 0.252847    \n",
       "west        -8.297e-02  7.983e-02  -1.039 0.302334    \n",
       "central     -8.173e-02  5.781e-02  -1.414 0.161985    \n",
       "urban       -8.973e-02  1.281e-01  -0.701 0.485938    \n",
       "pctmin80     7.177e-03  1.932e-03   3.714 0.000414 ***\n",
       "wcon         3.617e-04  5.757e-04   0.628 0.531964    \n",
       "wtuc         1.120e-04  3.143e-04   0.356 0.722665    \n",
       "wtrd         3.335e-04  9.486e-04   0.352 0.726219    \n",
       "wfir        -8.559e-04  5.666e-04  -1.510 0.135558    \n",
       "wser        -7.042e-05  1.185e-04  -0.594 0.554339    \n",
       "wmfg        -1.798e-04  2.956e-04  -0.608 0.545023    \n",
       "wfed         1.458e-03  5.335e-04   2.732 0.008003 ** \n",
       "wsta        -7.350e-04  5.420e-04  -1.356 0.179531    \n",
       "wloc         5.128e-04  1.006e-03   0.510 0.611752    \n",
       "mix         -2.707e-01  3.065e-01  -0.883 0.380176    \n",
       "pctymle      2.084e+00  9.460e-01   2.203 0.031003 *  \n",
       "---\n",
       "Signif. codes:  0 '***' 0.001 '**' 0.01 '*' 0.05 '.' 0.1 ' ' 1\n",
       "\n",
       "Residual standard error: 0.1733 on 68 degrees of freedom\n",
       "Multiple R-squared:  0.8572,\tAdjusted R-squared:  0.811 \n",
       "F-statistic: 18.55 on 22 and 68 DF,  p-value: < 2.2e-16\n"
      ]
     },
     "metadata": {},
     "output_type": "display_data"
    }
   ],
   "source": [
    "summary(all_in_model_log_level)"
   ]
  },
  {
   "cell_type": "markdown",
   "metadata": {},
   "source": [
    "Log-Log Model"
   ]
  },
  {
   "cell_type": "code",
   "execution_count": 175,
   "metadata": {},
   "outputs": [],
   "source": [
    "all_in_model_log_level <- lm(log_crmrte ~ log_prbarr + log_prbconv + log_prbpris + log_avgsen + log_polpc + density\n",
    "                            + log_taxpc + west + central + urban + pctmin80 + wcon\n",
    "                            + wtuc + wtrd + wfir + wser + wmfg + wfed + wsta + wloc\n",
    "                            + mix + pctymle,\n",
    "                       data = data_cleaned)"
   ]
  },
  {
   "cell_type": "code",
   "execution_count": 176,
   "metadata": {},
   "outputs": [
    {
     "data": {
      "text/plain": [
       "\n",
       "Call:\n",
       "lm(formula = log_crmrte ~ log_prbarr + log_prbconv + log_prbpris + \n",
       "    log_avgsen + log_polpc + density + log_taxpc + west + central + \n",
       "    urban + pctmin80 + wcon + wtuc + wtrd + wfir + wser + wmfg + \n",
       "    wfed + wsta + wloc + mix + pctymle, data = data_cleaned)\n",
       "\n",
       "Residuals:\n",
       "     Min       1Q   Median       3Q      Max \n",
       "-0.53233 -0.07794  0.00770  0.09035  0.55193 \n",
       "\n",
       "Coefficients:\n",
       "              Estimate Std. Error t value Pr(>|t|)    \n",
       "(Intercept)  2.978e+00  1.446e+00   2.059  0.04331 *  \n",
       "log_prbarr  -3.900e-01  7.616e-02  -5.121 2.69e-06 ***\n",
       "log_prbconv -2.576e-01  5.346e-02  -4.818 8.47e-06 ***\n",
       "log_prbpris -4.174e-02  1.062e-01  -0.393  0.69546    \n",
       "log_avgsen  -1.186e-01  9.383e-02  -1.264  0.21039    \n",
       "log_polpc    9.805e-01  4.189e-01   2.340  0.02220 *  \n",
       "density      9.859e-02  3.229e-02   3.053  0.00323 ** \n",
       "log_taxpc    7.961e-02  1.107e-01   0.719  0.47445    \n",
       "west        -1.092e-01  9.058e-02  -1.206  0.23216    \n",
       "central     -8.338e-02  6.506e-02  -1.282  0.20435    \n",
       "urban       -9.333e-02  1.474e-01  -0.633  0.52871    \n",
       "pctmin80     7.028e-03  2.199e-03   3.196  0.00212 ** \n",
       "wcon         4.733e-04  6.532e-04   0.725  0.47122    \n",
       "wtuc         1.055e-04  3.600e-04   0.293  0.77050    \n",
       "wtrd         1.410e-04  1.086e-03   0.130  0.89714    \n",
       "wfir        -8.298e-04  6.506e-04  -1.275  0.20649    \n",
       "wser        -2.623e-04  1.236e-04  -2.123  0.03738 *  \n",
       "wmfg        -8.249e-05  3.406e-04  -0.242  0.80934    \n",
       "wfed         1.663e-03  5.970e-04   2.785  0.00693 ** \n",
       "wsta        -7.428e-04  6.215e-04  -1.195  0.23620    \n",
       "wloc         5.990e-04  1.151e-03   0.521  0.60439    \n",
       "mix         -2.755e-01  3.557e-01  -0.775  0.44125    \n",
       "pctymle      1.839e+00  1.090e+00   1.687  0.09622 .  \n",
       "---\n",
       "Signif. codes:  0 '***' 0.001 '**' 0.01 '*' 0.05 '.' 0.1 ' ' 1\n",
       "\n",
       "Residual standard error: 0.1983 on 68 degrees of freedom\n",
       "Multiple R-squared:  0.813,\tAdjusted R-squared:  0.7525 \n",
       "F-statistic: 13.44 on 22 and 68 DF,  p-value: < 2.2e-16\n"
      ]
     },
     "metadata": {},
     "output_type": "display_data"
    }
   ],
   "source": [
    "summary(all_in_model_log_level)"
   ]
  }
 ],
 "metadata": {
  "kernelspec": {
   "display_name": "R",
   "language": "R",
   "name": "ir"
  },
  "language_info": {
   "codemirror_mode": "r",
   "file_extension": ".r",
   "mimetype": "text/x-r-source",
   "name": "R",
   "pygments_lexer": "r",
   "version": "3.6.1"
  }
 },
 "nbformat": 4,
 "nbformat_minor": 4
}
